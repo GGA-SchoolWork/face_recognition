{
 "cells": [
  {
   "cell_type": "code",
   "execution_count": 1,
   "metadata": {},
   "outputs": [
    {
     "name": "stdout",
     "output_type": "stream",
     "text": [
      "Progress: 000/700    0.00%\r"
     ]
    },
    {
     "data": {
      "text/html": [
       "<div>\n",
       "<style scoped>\n",
       "    .dataframe tbody tr th:only-of-type {\n",
       "        vertical-align: middle;\n",
       "    }\n",
       "\n",
       "    .dataframe tbody tr th {\n",
       "        vertical-align: top;\n",
       "    }\n",
       "\n",
       "    .dataframe thead th {\n",
       "        text-align: right;\n",
       "    }\n",
       "</style>\n",
       "<table border=\"1\" class=\"dataframe\">\n",
       "  <thead>\n",
       "    <tr style=\"text-align: right;\">\n",
       "      <th></th>\n",
       "      <th>filename</th>\n",
       "      <th>face_data</th>\n",
       "      <th>subject</th>\n",
       "    </tr>\n",
       "  </thead>\n",
       "  <tbody>\n",
       "    <tr>\n",
       "      <th>0</th>\n",
       "      <td>./faces_photos\\Angelina_Jolie_0001.jpg</td>\n",
       "      <td>[-0.18285129964351654, 0.09033381938934326, 0....</td>\n",
       "      <td>Angelina Jolie</td>\n",
       "    </tr>\n",
       "  </tbody>\n",
       "</table>\n",
       "</div>"
      ],
      "text/plain": [
       "                                 filename  \\\n",
       "0  ./faces_photos\\Angelina_Jolie_0001.jpg   \n",
       "\n",
       "                                           face_data         subject  \n",
       "0  [-0.18285129964351654, 0.09033381938934326, 0....  Angelina Jolie  "
      ]
     },
     "execution_count": 1,
     "metadata": {},
     "output_type": "execute_result"
    }
   ],
   "source": [
    "from PIL import Image\n",
    "import pandas as pd\n",
    "import face_recognition\n",
    "import glob\n",
    "\n",
    "# DataFrame base\n",
    "df = pd.DataFrame(columns = [\"filename\", \"face_data\", \"subject\"])\n",
    "\n",
    "# Saca lista de nombres en estilo UNIX\n",
    "images = glob.glob('./faces_photos/*.jpg')\n",
    "img_len = len(images)\n",
    "\n",
    "# Itera por todas las imagenes\n",
    "for i, filename in enumerate(images):\n",
    "    # Imprime progreso\n",
    "    print(f\"Progress: {i:03d}/{img_len}    {i/img_len*100:.2f}%\", end=\"\\r\")\n",
    "    \n",
    "    image = face_recognition.load_image_file(filename)  # Carga imagen\n",
    "    face_encoding = face_recognition.face_encodings(image)   # Reconoce informacion de la imagen\n",
    "    face_data = face_encoding[0] if len(face_encoding) > 0 else [0.0]*128   # Si se reconocen caras, guardar info de reconocimiento, 0's si no\n",
    "    subject = filename[15:-9].replace(\"_\", \" \")         # Guarda el nombre del sujeto\n",
    "    df.loc[len(df)] = [filename, face_data, subject]    # Agrega fila al dataframe\n",
    "\n",
    "df"
   ]
  }
 ],
 "metadata": {
  "kernelspec": {
   "display_name": "AprendizajeAutomatico",
   "language": "python",
   "name": "python3"
  },
  "language_info": {
   "codemirror_mode": {
    "name": "ipython",
    "version": 3
   },
   "file_extension": ".py",
   "mimetype": "text/x-python",
   "name": "python",
   "nbconvert_exporter": "python",
   "pygments_lexer": "ipython3",
   "version": "3.9.16"
  },
  "orig_nbformat": 4
 },
 "nbformat": 4,
 "nbformat_minor": 2
}
